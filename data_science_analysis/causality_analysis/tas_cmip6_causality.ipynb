{
 "cells": [
  {
   "cell_type": "markdown",
   "metadata": {},
   "source": [
    "### Remove scroll from figures"
   ]
  },
  {
   "cell_type": "code",
   "execution_count": 1,
   "metadata": {},
   "outputs": [
    {
     "data": {
      "application/javascript": "IPython.OutputArea.prototype._should_scroll = function(lines) {\n    return false;\n}\n",
      "text/plain": [
       "<IPython.core.display.Javascript object>"
      ]
     },
     "metadata": {},
     "output_type": "display_data"
    }
   ],
   "source": [
    "%%javascript\n",
    "IPython.OutputArea.prototype._should_scroll = function(lines) {\n",
    "    return false;\n",
    "}"
   ]
  },
  {
   "cell_type": "markdown",
   "metadata": {},
   "source": [
    "## Extend the size of the Window"
   ]
  },
  {
   "cell_type": "code",
   "execution_count": 2,
   "metadata": {},
   "outputs": [
    {
     "data": {
      "text/html": [
       "<style>.container { width:100% !important; }</style>"
      ],
      "text/plain": [
       "<IPython.core.display.HTML object>"
      ]
     },
     "metadata": {},
     "output_type": "display_data"
    }
   ],
   "source": [
    "from IPython.display import display, HTML\n",
    "display(HTML(\"<style>.container { width:100% !important; }</style>\"))"
   ]
  },
  {
   "cell_type": "markdown",
   "metadata": {},
   "source": [
    "## Load Modules"
   ]
  },
  {
   "cell_type": "code",
   "execution_count": 3,
   "metadata": {},
   "outputs": [],
   "source": [
    "import netCDF4 as nc\n",
    "import glob\n",
    "import numpy as np\n",
    "import pandas as pd\n",
    "import matplotlib.pylab as plt"
   ]
  },
  {
   "cell_type": "markdown",
   "metadata": {},
   "source": [
    "## Read Sunspot Data and create a multi-index pandas dataframe on year and month"
   ]
  },
  {
   "cell_type": "code",
   "execution_count": 4,
   "metadata": {},
   "outputs": [
    {
     "data": {
      "text/html": [
       "<div>\n",
       "<style scoped>\n",
       "    .dataframe tbody tr th:only-of-type {\n",
       "        vertical-align: middle;\n",
       "    }\n",
       "\n",
       "    .dataframe tbody tr th {\n",
       "        vertical-align: top;\n",
       "    }\n",
       "\n",
       "    .dataframe thead th {\n",
       "        text-align: right;\n",
       "    }\n",
       "</style>\n",
       "<table border=\"1\" class=\"dataframe\">\n",
       "  <thead>\n",
       "    <tr style=\"text-align: right;\">\n",
       "      <th></th>\n",
       "      <th></th>\n",
       "      <th>FracYear</th>\n",
       "      <th>SN</th>\n",
       "      <th>SNsd</th>\n",
       "      <th>NObs</th>\n",
       "      <th>prov</th>\n",
       "    </tr>\n",
       "    <tr>\n",
       "      <th>Year</th>\n",
       "      <th>Month</th>\n",
       "      <th></th>\n",
       "      <th></th>\n",
       "      <th></th>\n",
       "      <th></th>\n",
       "      <th></th>\n",
       "    </tr>\n",
       "  </thead>\n",
       "  <tbody>\n",
       "    <tr>\n",
       "      <th rowspan=\"5\" valign=\"top\">1749</th>\n",
       "      <th>1</th>\n",
       "      <td>1749.042</td>\n",
       "      <td>96.7</td>\n",
       "      <td>-1.0</td>\n",
       "      <td>-1</td>\n",
       "      <td>1</td>\n",
       "    </tr>\n",
       "    <tr>\n",
       "      <th>2</th>\n",
       "      <td>1749.123</td>\n",
       "      <td>104.3</td>\n",
       "      <td>-1.0</td>\n",
       "      <td>-1</td>\n",
       "      <td>1</td>\n",
       "    </tr>\n",
       "    <tr>\n",
       "      <th>3</th>\n",
       "      <td>1749.204</td>\n",
       "      <td>116.7</td>\n",
       "      <td>-1.0</td>\n",
       "      <td>-1</td>\n",
       "      <td>1</td>\n",
       "    </tr>\n",
       "    <tr>\n",
       "      <th>4</th>\n",
       "      <td>1749.288</td>\n",
       "      <td>92.8</td>\n",
       "      <td>-1.0</td>\n",
       "      <td>-1</td>\n",
       "      <td>1</td>\n",
       "    </tr>\n",
       "    <tr>\n",
       "      <th>5</th>\n",
       "      <td>1749.371</td>\n",
       "      <td>141.7</td>\n",
       "      <td>-1.0</td>\n",
       "      <td>-1</td>\n",
       "      <td>1</td>\n",
       "    </tr>\n",
       "    <tr>\n",
       "      <th>...</th>\n",
       "      <th>...</th>\n",
       "      <td>...</td>\n",
       "      <td>...</td>\n",
       "      <td>...</td>\n",
       "      <td>...</td>\n",
       "      <td>...</td>\n",
       "    </tr>\n",
       "    <tr>\n",
       "      <th rowspan=\"5\" valign=\"top\">2022</th>\n",
       "      <th>1</th>\n",
       "      <td>2022.042</td>\n",
       "      <td>54.0</td>\n",
       "      <td>12.9</td>\n",
       "      <td>1007</td>\n",
       "      <td>0</td>\n",
       "    </tr>\n",
       "    <tr>\n",
       "      <th>2</th>\n",
       "      <td>2022.122</td>\n",
       "      <td>59.7</td>\n",
       "      <td>13.1</td>\n",
       "      <td>1044</td>\n",
       "      <td>0</td>\n",
       "    </tr>\n",
       "    <tr>\n",
       "      <th>3</th>\n",
       "      <td>2022.204</td>\n",
       "      <td>78.5</td>\n",
       "      <td>13.9</td>\n",
       "      <td>1277</td>\n",
       "      <td>0</td>\n",
       "    </tr>\n",
       "    <tr>\n",
       "      <th>4</th>\n",
       "      <td>2022.286</td>\n",
       "      <td>84.1</td>\n",
       "      <td>15.2</td>\n",
       "      <td>1237</td>\n",
       "      <td>0</td>\n",
       "    </tr>\n",
       "    <tr>\n",
       "      <th>5</th>\n",
       "      <td>2022.371</td>\n",
       "      <td>96.5</td>\n",
       "      <td>16.0</td>\n",
       "      <td>1250</td>\n",
       "      <td>0</td>\n",
       "    </tr>\n",
       "  </tbody>\n",
       "</table>\n",
       "<p>3281 rows × 5 columns</p>\n",
       "</div>"
      ],
      "text/plain": [
       "            FracYear     SN  SNsd  NObs  prov\n",
       "Year Month                                   \n",
       "1749 1      1749.042   96.7  -1.0    -1     1\n",
       "     2      1749.123  104.3  -1.0    -1     1\n",
       "     3      1749.204  116.7  -1.0    -1     1\n",
       "     4      1749.288   92.8  -1.0    -1     1\n",
       "     5      1749.371  141.7  -1.0    -1     1\n",
       "...              ...    ...   ...   ...   ...\n",
       "2022 1      2022.042   54.0  12.9  1007     0\n",
       "     2      2022.122   59.7  13.1  1044     0\n",
       "     3      2022.204   78.5  13.9  1277     0\n",
       "     4      2022.286   84.1  15.2  1237     0\n",
       "     5      2022.371   96.5  16.0  1250     0\n",
       "\n",
       "[3281 rows x 5 columns]"
      ]
     },
     "execution_count": 4,
     "metadata": {},
     "output_type": "execute_result"
    }
   ],
   "source": [
    "# Define path\n",
    "histDataPath = '../../inputs_to_models/sunspot_number/SN_m_tot_V2.0.csv'\n",
    "\n",
    "# Read SN monthly average file with custom column names\n",
    "colnames=['Year', 'Month', 'FracYear', 'SN', 'SNsd', 'NObs', 'prov'] \n",
    "SN = pd.read_csv(histDataPath, delimiter=';', names=colnames)\n",
    "SN = SN.set_index(['Year', 'Month'])\n",
    "\n",
    "SN\n"
   ]
  },
  {
   "cell_type": "markdown",
   "metadata": {},
   "source": [
    "## Read CMIP Data"
   ]
  },
  {
   "cell_type": "code",
   "execution_count": 5,
   "metadata": {},
   "outputs": [],
   "source": [
    "# Define paths\n",
    "histDataPath = '../../data/CMIP/hist-sol/'\n",
    "solDataPath = '../../data/CMIP/hist-sol/'"
   ]
  },
  {
   "cell_type": "code",
   "execution_count": 6,
   "metadata": {},
   "outputs": [],
   "source": [
    "# Find files\n",
    "histFiles = glob.glob(histDataPath + '*.nc')\n",
    "solFiles = glob.glob(solDataPath + '*.nc')"
   ]
  },
  {
   "cell_type": "markdown",
   "metadata": {},
   "source": [
    "### Create variables for hist-sol run"
   ]
  },
  {
   "cell_type": "code",
   "execution_count": 7,
   "metadata": {},
   "outputs": [],
   "source": [
    "# Define variables\n",
    "solLat = None\n",
    "solLon = None\n",
    "solTime = None\n",
    "solTas = None\n",
    "\n",
    "# Read data and concatenate arrays\n",
    "for file in solFiles:\n",
    "    ds = nc.Dataset(file)\n",
    "\n",
    "    if solLat is None:\n",
    "        solLat = ds['lat'][:]\n",
    "    \n",
    "    if solLon is None:\n",
    "        solLon = ds['lon'][:]\n",
    "\n",
    "    if solTime is None:\n",
    "        solTime = ds['time'][:]\n",
    "    else:\n",
    "        solTime = np.concatenate((solTime, ds['time'][:]))\n",
    "\n",
    "    if solTas is None:\n",
    "        solTas = ds['tas'][:]\n",
    "    else:\n",
    "        solTas = np.concatenate((solTas, ds['tas'][:]))        \n"
   ]
  },
  {
   "cell_type": "markdown",
   "metadata": {},
   "source": [
    "### Create variables for hist run"
   ]
  },
  {
   "cell_type": "code",
   "execution_count": 8,
   "metadata": {},
   "outputs": [],
   "source": [
    "# Define variables\n",
    "histLat = None\n",
    "histLon = None\n",
    "histTime = None\n",
    "histTas = None\n",
    "\n",
    "# Read data and concatenate arrays\n",
    "for file in histFiles:\n",
    "    ds = nc.Dataset(file)\n",
    "\n",
    "    if histLat is None:\n",
    "        histLat = ds['lat'][:]\n",
    "    \n",
    "    if histLon is None:\n",
    "        histLon = ds['lon'][:]\n",
    "\n",
    "    if histTime is None:\n",
    "        histTime = ds['time'][:]\n",
    "    else:\n",
    "        histTime = np.concatenate((histTime, ds['time'][:]))\n",
    "\n",
    "    if histTas is None:\n",
    "        histTas = ds['tas'][:]\n",
    "    else:\n",
    "        histTas = np.concatenate((histTas, ds['tas'][:]))        \n"
   ]
  },
  {
   "cell_type": "markdown",
   "metadata": {},
   "source": [
    "### Create datetime variables"
   ]
  },
  {
   "cell_type": "code",
   "execution_count": 9,
   "metadata": {},
   "outputs": [],
   "source": [
    "# Reference date\n",
    "refDate = pd.to_datetime('1850-01-01')\n",
    "solDate = np.array([refDate + pd.Timedelta(day, \"d\") for day in solTime])\n",
    "histDate = np.array([refDate + pd.Timedelta(day, \"d\") for day in histTime])"
   ]
  },
  {
   "cell_type": "markdown",
   "metadata": {},
   "source": [
    "### Create pandas dataframe using time, latitude, and longitude as multi-index"
   ]
  },
  {
   "cell_type": "code",
   "execution_count": 31,
   "metadata": {},
   "outputs": [],
   "source": [
    "# Create meshgrid\n",
    "solMGlat, solMGdate, solMGlon = np.meshgrid(histLat, solDate, histLon)\n",
    "\n",
    "# turn arrays into columns and create dictionary\n",
    "solCmipDic = {'Date':solMGdate.reshape(-1), 'Lat':solMGlat.reshape(-1), 'Lon':solMGlon.reshape(-1), 'tas':solTas.reshape(-1)}\n",
    "\n",
    "# Use dictionary to create pandas dataframe\n",
    "solCmipDf = pd.DataFrame(solCmipDic)\n",
    "\n",
    "# Add year and month columns\n",
    "solCmipDf['Year'] = pd.DatetimeIndex(solCmipDf['Date']).year\n",
    "solCmipDf['Month'] = pd.DatetimeIndex(solCmipDf['Date']).month\n",
    "\n",
    "# Reindex \n",
    "solCmipDf = solCmipDf.set_index(['Year', 'Month', 'Lat', 'Lon'])"
   ]
  },
  {
   "cell_type": "code",
   "execution_count": 54,
   "metadata": {},
   "outputs": [],
   "source": [
    "# Create meshgrid\n",
    "histMGlat, histMGdate, histMGlon = np.meshgrid(histLat, histDate, histLon)\n",
    "\n",
    "# turn arrays into columns and create dictionary\n",
    "histCmipDic = {'Date':histMGdate.reshape(-1), 'Lat':histMGlat.reshape(-1), 'Lon':histMGlon.reshape(-1), 'tas':histTas.reshape(-1)}\n",
    "\n",
    "# Use dictionary to create pandas dataframe\n",
    "histCmipDf = pd.DataFrame(histCmipDic)\n",
    "\n",
    "# Add year and month columns\n",
    "histCmipDf['Year'] = pd.DatetimeIndex(histCmipDf['Date']).year\n",
    "histCmipDf['Month'] = pd.DatetimeIndex(histCmipDf['Date']).month\n",
    "\n",
    "# Reindex \n",
    "histCmipDf = histCmipDf.set_index(['Year', 'Month', 'Lat', 'Lon'])\n",
    "\n"
   ]
  },
  {
   "cell_type": "code",
   "execution_count": null,
   "metadata": {},
   "outputs": [],
   "source": []
  }
 ],
 "metadata": {
  "interpreter": {
   "hash": "e6c59f9865e50a05058ea6d43e395857ef37350714bb8cd2b49d9e47dbe96d86"
  },
  "kernelspec": {
   "display_name": "Python 3.10.4 ('sun-climate')",
   "language": "python",
   "name": "python3"
  },
  "language_info": {
   "codemirror_mode": {
    "name": "ipython",
    "version": 3
   },
   "file_extension": ".py",
   "mimetype": "text/x-python",
   "name": "python",
   "nbconvert_exporter": "python",
   "pygments_lexer": "ipython3",
   "version": "3.10.4"
  },
  "orig_nbformat": 4
 },
 "nbformat": 4,
 "nbformat_minor": 2
}
